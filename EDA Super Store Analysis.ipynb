{
 "cells": [
  {
   "cell_type": "markdown",
   "id": "9f62c860",
   "metadata": {},
   "source": [
    "### Problem Statement:\n",
    "With growing demands and cut-throat competitions in the market, a Superstore Giant is seeking our knowledge in understanding what works best for them. They would like to understand which products, regions, categories and customer segments they should target or avoid."
   ]
  },
  {
   "cell_type": "code",
   "execution_count": 1,
   "id": "2988c2a2",
   "metadata": {},
   "outputs": [],
   "source": [
    "#importing libraries\n",
    "import pandas as pd\n",
    "import numpy as np\n",
    "import seaborn as sns\n",
    "import matplotlib.pyplot as plt\n",
    "pd.set_option(\"display.max_columns\",500)\n",
    "pd.set_option(\"display.max_rows\",500)\n",
    "import warnings\n",
    "warnings.filterwarnings(\"ignore\")"
   ]
  },
  {
   "cell_type": "code",
   "execution_count": 2,
   "id": "abe0b012",
   "metadata": {
    "scrolled": true
   },
   "outputs": [
    {
     "data": {
      "text/html": [
       "<div>\n",
       "<style scoped>\n",
       "    .dataframe tbody tr th:only-of-type {\n",
       "        vertical-align: middle;\n",
       "    }\n",
       "\n",
       "    .dataframe tbody tr th {\n",
       "        vertical-align: top;\n",
       "    }\n",
       "\n",
       "    .dataframe thead th {\n",
       "        text-align: right;\n",
       "    }\n",
       "</style>\n",
       "<table border=\"1\" class=\"dataframe\">\n",
       "  <thead>\n",
       "    <tr style=\"text-align: right;\">\n",
       "      <th></th>\n",
       "      <th>Row ID</th>\n",
       "      <th>Order ID</th>\n",
       "      <th>Order Date</th>\n",
       "      <th>Ship Date</th>\n",
       "      <th>Ship Mode</th>\n",
       "      <th>Customer ID</th>\n",
       "      <th>Customer Name</th>\n",
       "      <th>Segment</th>\n",
       "      <th>Country</th>\n",
       "      <th>City</th>\n",
       "      <th>State</th>\n",
       "      <th>Postal Code</th>\n",
       "      <th>Region</th>\n",
       "      <th>Product ID</th>\n",
       "      <th>Category</th>\n",
       "      <th>Sub-Category</th>\n",
       "      <th>Product Name</th>\n",
       "      <th>Sales</th>\n",
       "      <th>Quantity</th>\n",
       "      <th>Discount</th>\n",
       "      <th>Profit</th>\n",
       "    </tr>\n",
       "  </thead>\n",
       "  <tbody>\n",
       "    <tr>\n",
       "      <th>0</th>\n",
       "      <td>1</td>\n",
       "      <td>CA-2016-152156</td>\n",
       "      <td>11/8/2016</td>\n",
       "      <td>11/11/2016</td>\n",
       "      <td>Second Class</td>\n",
       "      <td>CG-12520</td>\n",
       "      <td>Claire Gute</td>\n",
       "      <td>Consumer</td>\n",
       "      <td>United States</td>\n",
       "      <td>Henderson</td>\n",
       "      <td>Kentucky</td>\n",
       "      <td>42420</td>\n",
       "      <td>South</td>\n",
       "      <td>FUR-BO-10001798</td>\n",
       "      <td>Furniture</td>\n",
       "      <td>Bookcases</td>\n",
       "      <td>Bush Somerset Collection Bookcase</td>\n",
       "      <td>261.9600</td>\n",
       "      <td>2</td>\n",
       "      <td>0.00</td>\n",
       "      <td>41.9136</td>\n",
       "    </tr>\n",
       "    <tr>\n",
       "      <th>1</th>\n",
       "      <td>2</td>\n",
       "      <td>CA-2016-152156</td>\n",
       "      <td>11/8/2016</td>\n",
       "      <td>11/11/2016</td>\n",
       "      <td>Second Class</td>\n",
       "      <td>CG-12520</td>\n",
       "      <td>Claire Gute</td>\n",
       "      <td>Consumer</td>\n",
       "      <td>United States</td>\n",
       "      <td>Henderson</td>\n",
       "      <td>Kentucky</td>\n",
       "      <td>42420</td>\n",
       "      <td>South</td>\n",
       "      <td>FUR-CH-10000454</td>\n",
       "      <td>Furniture</td>\n",
       "      <td>Chairs</td>\n",
       "      <td>Hon Deluxe Fabric Upholstered Stacking Chairs,...</td>\n",
       "      <td>731.9400</td>\n",
       "      <td>3</td>\n",
       "      <td>0.00</td>\n",
       "      <td>219.5820</td>\n",
       "    </tr>\n",
       "    <tr>\n",
       "      <th>2</th>\n",
       "      <td>3</td>\n",
       "      <td>CA-2016-138688</td>\n",
       "      <td>6/12/2016</td>\n",
       "      <td>6/16/2016</td>\n",
       "      <td>Second Class</td>\n",
       "      <td>DV-13045</td>\n",
       "      <td>Darrin Van Huff</td>\n",
       "      <td>Corporate</td>\n",
       "      <td>United States</td>\n",
       "      <td>Los Angeles</td>\n",
       "      <td>California</td>\n",
       "      <td>90036</td>\n",
       "      <td>West</td>\n",
       "      <td>OFF-LA-10000240</td>\n",
       "      <td>Office Supplies</td>\n",
       "      <td>Labels</td>\n",
       "      <td>Self-Adhesive Address Labels for Typewriters b...</td>\n",
       "      <td>14.6200</td>\n",
       "      <td>2</td>\n",
       "      <td>0.00</td>\n",
       "      <td>6.8714</td>\n",
       "    </tr>\n",
       "    <tr>\n",
       "      <th>3</th>\n",
       "      <td>4</td>\n",
       "      <td>US-2015-108966</td>\n",
       "      <td>10/11/2015</td>\n",
       "      <td>10/18/2015</td>\n",
       "      <td>Standard Class</td>\n",
       "      <td>SO-20335</td>\n",
       "      <td>Sean O'Donnell</td>\n",
       "      <td>Consumer</td>\n",
       "      <td>United States</td>\n",
       "      <td>Fort Lauderdale</td>\n",
       "      <td>Florida</td>\n",
       "      <td>33311</td>\n",
       "      <td>South</td>\n",
       "      <td>FUR-TA-10000577</td>\n",
       "      <td>Furniture</td>\n",
       "      <td>Tables</td>\n",
       "      <td>Bretford CR4500 Series Slim Rectangular Table</td>\n",
       "      <td>957.5775</td>\n",
       "      <td>5</td>\n",
       "      <td>0.45</td>\n",
       "      <td>-383.0310</td>\n",
       "    </tr>\n",
       "    <tr>\n",
       "      <th>4</th>\n",
       "      <td>5</td>\n",
       "      <td>US-2015-108966</td>\n",
       "      <td>10/11/2015</td>\n",
       "      <td>10/18/2015</td>\n",
       "      <td>Standard Class</td>\n",
       "      <td>SO-20335</td>\n",
       "      <td>Sean O'Donnell</td>\n",
       "      <td>Consumer</td>\n",
       "      <td>United States</td>\n",
       "      <td>Fort Lauderdale</td>\n",
       "      <td>Florida</td>\n",
       "      <td>33311</td>\n",
       "      <td>South</td>\n",
       "      <td>OFF-ST-10000760</td>\n",
       "      <td>Office Supplies</td>\n",
       "      <td>Storage</td>\n",
       "      <td>Eldon Fold 'N Roll Cart System</td>\n",
       "      <td>22.3680</td>\n",
       "      <td>2</td>\n",
       "      <td>0.20</td>\n",
       "      <td>2.5164</td>\n",
       "    </tr>\n",
       "  </tbody>\n",
       "</table>\n",
       "</div>"
      ],
      "text/plain": [
       "   Row ID        Order ID  Order Date   Ship Date       Ship Mode Customer ID  \\\n",
       "0       1  CA-2016-152156   11/8/2016  11/11/2016    Second Class    CG-12520   \n",
       "1       2  CA-2016-152156   11/8/2016  11/11/2016    Second Class    CG-12520   \n",
       "2       3  CA-2016-138688   6/12/2016   6/16/2016    Second Class    DV-13045   \n",
       "3       4  US-2015-108966  10/11/2015  10/18/2015  Standard Class    SO-20335   \n",
       "4       5  US-2015-108966  10/11/2015  10/18/2015  Standard Class    SO-20335   \n",
       "\n",
       "     Customer Name    Segment        Country             City       State  \\\n",
       "0      Claire Gute   Consumer  United States        Henderson    Kentucky   \n",
       "1      Claire Gute   Consumer  United States        Henderson    Kentucky   \n",
       "2  Darrin Van Huff  Corporate  United States      Los Angeles  California   \n",
       "3   Sean O'Donnell   Consumer  United States  Fort Lauderdale     Florida   \n",
       "4   Sean O'Donnell   Consumer  United States  Fort Lauderdale     Florida   \n",
       "\n",
       "   Postal Code Region       Product ID         Category Sub-Category  \\\n",
       "0        42420  South  FUR-BO-10001798        Furniture    Bookcases   \n",
       "1        42420  South  FUR-CH-10000454        Furniture       Chairs   \n",
       "2        90036   West  OFF-LA-10000240  Office Supplies       Labels   \n",
       "3        33311  South  FUR-TA-10000577        Furniture       Tables   \n",
       "4        33311  South  OFF-ST-10000760  Office Supplies      Storage   \n",
       "\n",
       "                                        Product Name     Sales  Quantity  \\\n",
       "0                  Bush Somerset Collection Bookcase  261.9600         2   \n",
       "1  Hon Deluxe Fabric Upholstered Stacking Chairs,...  731.9400         3   \n",
       "2  Self-Adhesive Address Labels for Typewriters b...   14.6200         2   \n",
       "3      Bretford CR4500 Series Slim Rectangular Table  957.5775         5   \n",
       "4                     Eldon Fold 'N Roll Cart System   22.3680         2   \n",
       "\n",
       "   Discount    Profit  \n",
       "0      0.00   41.9136  \n",
       "1      0.00  219.5820  \n",
       "2      0.00    6.8714  \n",
       "3      0.45 -383.0310  \n",
       "4      0.20    2.5164  "
      ]
     },
     "execution_count": 2,
     "metadata": {},
     "output_type": "execute_result"
    }
   ],
   "source": [
    "# reading csv files\n",
    "store=pd.read_csv('Sample - Superstore.csv',encoding='windows-1252')\n",
    "store.head()"
   ]
  },
  {
   "cell_type": "markdown",
   "id": "d6dc2423",
   "metadata": {},
   "source": [
    "### Analysing the data set"
   ]
  },
  {
   "cell_type": "code",
   "execution_count": 161,
   "id": "74c063f2",
   "metadata": {},
   "outputs": [
    {
     "data": {
      "text/plain": [
       "(9994, 21)"
      ]
     },
     "execution_count": 161,
     "metadata": {},
     "output_type": "execute_result"
    }
   ],
   "source": [
    "store.shape"
   ]
  },
  {
   "cell_type": "code",
   "execution_count": 162,
   "id": "91b9223f",
   "metadata": {},
   "outputs": [
    {
     "name": "stdout",
     "output_type": "stream",
     "text": [
      "<class 'pandas.core.frame.DataFrame'>\n",
      "RangeIndex: 9994 entries, 0 to 9993\n",
      "Data columns (total 21 columns):\n",
      " #   Column         Non-Null Count  Dtype  \n",
      "---  ------         --------------  -----  \n",
      " 0   Row ID         9994 non-null   int64  \n",
      " 1   Order ID       9994 non-null   object \n",
      " 2   Order Date     9994 non-null   object \n",
      " 3   Ship Date      9994 non-null   object \n",
      " 4   Ship Mode      9994 non-null   object \n",
      " 5   Customer ID    9994 non-null   object \n",
      " 6   Customer Name  9994 non-null   object \n",
      " 7   Segment        9994 non-null   object \n",
      " 8   Country        9994 non-null   object \n",
      " 9   City           9994 non-null   object \n",
      " 10  State          9994 non-null   object \n",
      " 11  Postal Code    9994 non-null   int64  \n",
      " 12  Region         9994 non-null   object \n",
      " 13  Product ID     9994 non-null   object \n",
      " 14  Category       9994 non-null   object \n",
      " 15  Sub-Category   9994 non-null   object \n",
      " 16  Product Name   9994 non-null   object \n",
      " 17  Sales          9994 non-null   float64\n",
      " 18  Quantity       9994 non-null   int64  \n",
      " 19  Discount       9994 non-null   float64\n",
      " 20  Profit         9994 non-null   float64\n",
      "dtypes: float64(3), int64(3), object(15)\n",
      "memory usage: 1.6+ MB\n"
     ]
    }
   ],
   "source": [
    "store.info()"
   ]
  },
  {
   "cell_type": "markdown",
   "id": "5151d44d",
   "metadata": {},
   "source": [
    "No null values in the data set. All columns are of appropriate data type."
   ]
  },
  {
   "cell_type": "markdown",
   "id": "979ea35d",
   "metadata": {},
   "source": [
    "### Outlier analysis"
   ]
  },
  {
   "cell_type": "code",
   "execution_count": 163,
   "id": "7181b4ce",
   "metadata": {},
   "outputs": [
    {
     "data": {
      "image/png": "[encoded data removed]",
      "text/plain": [
       "<Figure size 432x288 with 1 Axes>"
      ]
     },
     "metadata": {
      "needs_background": "light"
     },
     "output_type": "display_data"
    }
   ],
   "source": [
    "sns.boxplot(store.Sales)\n",
    "plt.show()"
   ]
  },
  {
   "cell_type": "code",
   "execution_count": 164,
   "id": "af3f0643",
   "metadata": {},
   "outputs": [
    {
     "data": {
      "text/plain": [
       "0.00        0.444000\n",
       "0.25       17.280000\n",
       "0.50       54.490000\n",
       "0.75      209.940000\n",
       "0.90      572.706000\n",
       "0.95      956.984245\n",
       "0.99     2481.694600\n",
       "1.00    22638.480000\n",
       "Name: Sales, dtype: float64"
      ]
     },
     "execution_count": 164,
     "metadata": {},
     "output_type": "execute_result"
    }
   ],
   "source": [
    "store[\"Sales\"].quantile([0.0,0.25,0.5,0.75,0.90,0.95,0.99,1.0])"
   ]
  },
  {
   "cell_type": "markdown",
   "id": "8cef5a32",
   "metadata": {},
   "source": [
    "There seem to be outliers in sales column since there is huge variation between 99th and 100th percentile. But there is no need to discard outliers."
   ]
  },
  {
   "cell_type": "code",
   "execution_count": 165,
   "id": "d8c1c92c",
   "metadata": {},
   "outputs": [
    {
     "data": {
      "image/png": "[encoded data removed]",
      "text/plain": [
       "<Figure size 432x288 with 1 Axes>"
      ]
     },
     "metadata": {
      "needs_background": "light"
     },
     "output_type": "display_data"
    }
   ],
   "source": [
    "sns.boxplot(store.Profit)\n",
    "plt.show()"
   ]
  },
  {
   "cell_type": "code",
   "execution_count": 166,
   "id": "5c2210f9",
   "metadata": {},
   "outputs": [
    {
     "data": {
      "text/plain": [
       "0.00   -6599.978000\n",
       "0.25       1.728750\n",
       "0.50       8.666500\n",
       "0.75      29.364000\n",
       "0.90      89.281620\n",
       "0.95     168.470400\n",
       "0.99     580.657882\n",
       "1.00    8399.976000\n",
       "Name: Profit, dtype: float64"
      ]
     },
     "execution_count": 166,
     "metadata": {},
     "output_type": "execute_result"
    }
   ],
   "source": [
    "store[\"Profit\"].quantile([0.0,0.25,0.5,0.75,0.90,0.95,0.99,1.0])"
   ]
  },
  {
   "cell_type": "markdown",
   "id": "d398467a",
   "metadata": {},
   "source": [
    "There seem to be outliers in Profit column as well since there is huge variation between 99th and 100th percentile.\n",
    "But there is no need to discard outliers."
   ]
  },
  {
   "cell_type": "code",
   "execution_count": 167,
   "id": "464e35e6",
   "metadata": {},
   "outputs": [
    {
     "data": {
      "image/png": "[encoded data removed]",
      "text/plain": [
       "<Figure size 432x288 with 1 Axes>"
      ]
     },
     "metadata": {
      "needs_background": "light"
     },
     "output_type": "display_data"
    }
   ],
   "source": [
    "sns.boxplot(store.Quantity)\n",
    "plt.show()"
   ]
  },
  {
   "cell_type": "code",
   "execution_count": 168,
   "id": "8cbb2738",
   "metadata": {},
   "outputs": [
    {
     "data": {
      "text/plain": [
       "0.00     1.0\n",
       "0.25     2.0\n",
       "0.50     3.0\n",
       "0.75     5.0\n",
       "0.90     7.0\n",
       "0.95     8.0\n",
       "0.99    11.0\n",
       "1.00    14.0\n",
       "Name: Quantity, dtype: float64"
      ]
     },
     "execution_count": 168,
     "metadata": {},
     "output_type": "execute_result"
    }
   ],
   "source": [
    "store[\"Quantity\"].quantile([0.0,0.25,0.5,0.75,0.90,0.95,0.99,1.0])"
   ]
  },
  {
   "cell_type": "markdown",
   "id": "56c8474a",
   "metadata": {},
   "source": [
    "Distribution of quantity is normal and the values are valid."
   ]
  },
  {
   "cell_type": "code",
   "execution_count": 169,
   "id": "d92e9a23",
   "metadata": {},
   "outputs": [
    {
     "data": {
      "image/png": "[encoded data removed]",
      "text/plain": [
       "<Figure size 432x288 with 1 Axes>"
      ]
     },
     "metadata": {
      "needs_background": "light"
     },
     "output_type": "display_data"
    }
   ],
   "source": [
    "sns.boxplot(store.Discount)\n",
    "plt.show()"
   ]
  },
  {
   "cell_type": "markdown",
   "id": "c7031671",
   "metadata": {},
   "source": [
    "Distribution of Discount is normal and all the values are valid."
   ]
  },
  {
   "cell_type": "markdown",
   "id": "0ad22bb9",
   "metadata": {},
   "source": [
    "## Univariate Analysis"
   ]
  },
  {
   "cell_type": "markdown",
   "id": "e883c784",
   "metadata": {},
   "source": [
    "Since we have to analyze Products, Regions, categories, customer segments.Let's do univariate analysis for them"
   ]
  },
  {
   "cell_type": "code",
   "execution_count": 170,
   "id": "42d6331d",
   "metadata": {},
   "outputs": [
    {
     "data": {
      "text/plain": [
       "Staple envelope               48\n",
       "Staples                       46\n",
       "Easy-staple paper             46\n",
       "Avery Non-Stick Binders       20\n",
       "Staples in misc. colors       19\n",
       "Staple remover                18\n",
       "KI Adjustable-Height Table    18\n",
       "Storex Dura Pro Binders       17\n",
       "Staple-based wall hangings    16\n",
       "Name: Product Name, dtype: int64"
      ]
     },
     "execution_count": 170,
     "metadata": {},
     "output_type": "execute_result"
    }
   ],
   "source": [
    "store[\"Product Name\"].value_counts().loc[lambda x:x>15]"
   ]
  },
  {
   "cell_type": "markdown",
   "id": "b752bca0",
   "metadata": {},
   "source": [
    "Above products have the highest sales data. Hence they can be taken as the most popular products."
   ]
  },
  {
   "cell_type": "code",
   "execution_count": 171,
   "id": "31ec3528",
   "metadata": {},
   "outputs": [
    {
     "data": {
      "image/png": "[encoded data removed]",
      "text/plain": [
       "<Figure size 432x288 with 1 Axes>"
      ]
     },
     "metadata": {},
     "output_type": "display_data"
    }
   ],
   "source": [
    "store[\"Region\"].value_counts().plot.pie(autopct='%1.1f%%')\n",
    "plt.show()"
   ]
  },
  {
   "cell_type": "markdown",
   "id": "1a813229",
   "metadata": {},
   "source": [
    "Among the regions, west seems to be the most popular in terms of sales count and south seems to be the least popular."
   ]
  },
  {
   "cell_type": "code",
   "execution_count": 172,
   "id": "8a098561",
   "metadata": {},
   "outputs": [
    {
     "data": {
      "image/png": "[encoded data removed]",
      "text/plain": [
       "<Figure size 432x288 with 1 Axes>"
      ]
     },
     "metadata": {},
     "output_type": "display_data"
    }
   ],
   "source": [
    "store[\"Category\"].value_counts().plot.pie(autopct='%1.1f%%')\n",
    "plt.show()"
   ]
  },
  {
   "cell_type": "markdown",
   "id": "4f8617ab",
   "metadata": {},
   "source": [
    "Among the categories, Office Supplies has the highest sales count and Technology has the least."
   ]
  },
  {
   "cell_type": "code",
   "execution_count": 173,
   "id": "a81b896a",
   "metadata": {},
   "outputs": [
    {
     "data": {
      "image/png": "[encoded data removed]",
      "text/plain": [
       "<Figure size 432x288 with 1 Axes>"
      ]
     },
     "metadata": {
      "needs_background": "light"
     },
     "output_type": "display_data"
    }
   ],
   "source": [
    "store[\"Segment\"].value_counts().plot.barh()\n",
    "plt.show()"
   ]
  },
  {
   "cell_type": "markdown",
   "id": "92b18a0e",
   "metadata": {},
   "source": [
    "Among the segments, Consumer segment is the most popular in terms of sales count and Home Office is the least popular."
   ]
  },
  {
   "cell_type": "markdown",
   "id": "3e4eb3ae",
   "metadata": {},
   "source": [
    "### Bivariate Analysis"
   ]
  },
  {
   "cell_type": "markdown",
   "id": "7b90aa20",
   "metadata": {},
   "source": [
    "### Analysing Categories"
   ]
  },
  {
   "cell_type": "code",
   "execution_count": 176,
   "id": "dcb60a25",
   "metadata": {
    "scrolled": false
   },
   "outputs": [
    {
     "data": {
      "image/png": "[encoded data removed]",
      "text/plain": [
       "<Figure size 432x288 with 1 Axes>"
      ]
     },
     "metadata": {
      "needs_background": "light"
     },
     "output_type": "display_data"
    }
   ],
   "source": [
    "sns.barplot(data=store,x=\"Category\",y=\"Sales\")\n",
    "plt.title(\"Sales of various Categories\")\n",
    "plt.xlabel(\"Category\")\n",
    "plt.ylabel(\"Sales\")\n",
    "plt.show()"
   ]
  },
  {
   "cell_type": "code",
   "execution_count": 177,
   "id": "05562b0b",
   "metadata": {
    "scrolled": true
   },
   "outputs": [
    {
     "data": {
      "image/png": "[encoded data removed]",
      "text/plain": [
       "<Figure size 432x288 with 1 Axes>"
      ]
     },
     "metadata": {
      "needs_background": "light"
     },
     "output_type": "display_data"
    }
   ],
   "source": [
    "sns.barplot(data=store,x=\"Category\",y=\"Profit\")\n",
    "plt.title(\"Profit of various Categories\")\n",
    "plt.xlabel(\"Category\")\n",
    "plt.ylabel(\"Profit\")\n",
    "plt.show()"
   ]
  },
  {
   "cell_type": "code",
   "execution_count": 178,
   "id": "8407bda5",
   "metadata": {
    "scrolled": true
   },
   "outputs": [
    {
     "data": {
      "image/png": "[encoded data removed]",
      "text/plain": [
       "<Figure size 432x288 with 1 Axes>"
      ]
     },
     "metadata": {
      "needs_background": "light"
     },
     "output_type": "display_data"
    }
   ],
   "source": [
    "sns.barplot(data=store,x=\"Category\",y=\"Quantity\")\n",
    "plt.title(\"Quantity sold in various Categories\")\n",
    "plt.xlabel(\"Category\")\n",
    "plt.ylabel(\"Quantity\")\n",
    "plt.show()"
   ]
  },
  {
   "cell_type": "markdown",
   "id": "a055de38",
   "metadata": {},
   "source": [
    "#### Among the various categories, though the quantity sold is same, Technology has the highest amount of sales and is the most profitable as well. Though Furniture has reasonable sales, it is the least profitable."
   ]
  },
  {
   "cell_type": "markdown",
   "id": "511fd881",
   "metadata": {},
   "source": [
    "### Analysing Regions"
   ]
  },
  {
   "cell_type": "code",
   "execution_count": 179,
   "id": "9b761b45",
   "metadata": {},
   "outputs": [
    {
     "data": {
      "image/png": "[encoded data removed]",
      "text/plain": [
       "<Figure size 432x288 with 1 Axes>"
      ]
     },
     "metadata": {
      "needs_background": "light"
     },
     "output_type": "display_data"
    }
   ],
   "source": [
    "sns.barplot(data=store,x=\"Region\",y=\"Quantity\")\n",
    "plt.title(\"Quantities sold in various regions\")\n",
    "plt.xlabel(\"Region\")\n",
    "plt.ylabel(\"Quantity\")\n",
    "plt.show()"
   ]
  },
  {
   "cell_type": "code",
   "execution_count": 180,
   "id": "1b25e53a",
   "metadata": {},
   "outputs": [
    {
     "data": {
      "image/png": "[encoded data removed]",
      "text/plain": [
       "<Figure size 432x288 with 1 Axes>"
      ]
     },
     "metadata": {
      "needs_background": "light"
     },
     "output_type": "display_data"
    }
   ],
   "source": [
    "sns.barplot(data=store,x=\"Region\",y=\"Sales\")\n",
    "plt.title(\"Sales across various regions\")\n",
    "plt.xlabel(\"Region\")\n",
    "plt.ylabel(\"Sales\")\n",
    "plt.show()"
   ]
  },
  {
   "cell_type": "code",
   "execution_count": 181,
   "id": "bebadba6",
   "metadata": {},
   "outputs": [
    {
     "data": {
      "image/png": "[encoded data removed]",
      "text/plain": [
       "<Figure size 432x288 with 1 Axes>"
      ]
     },
     "metadata": {
      "needs_background": "light"
     },
     "output_type": "display_data"
    }
   ],
   "source": [
    "sns.barplot(data=store,x=\"Region\",y=\"Profit\")\n",
    "plt.title(\"Profit across various regions\")\n",
    "plt.xlabel(\"Region\")\n",
    "plt.ylabel(\"Profit\")\n",
    "plt.show()"
   ]
  },
  {
   "cell_type": "markdown",
   "id": "b4e55b11",
   "metadata": {},
   "source": [
    "#### Among the various regions, the quantity sold is almost same in all the regions. Though all regions have good amount of sales, West is the most profitable region and Central is the least profitable region."
   ]
  },
  {
   "cell_type": "markdown",
   "id": "a4f43d45",
   "metadata": {},
   "source": [
    "### Analysing Segments"
   ]
  },
  {
   "cell_type": "code",
   "execution_count": 182,
   "id": "dcb60a25",
   "metadata": {
    "scrolled": false
   },
   "outputs": [
    {
     "data": {
      "image/png": "[encoded data removed]",
      "text/plain": [
       "<Figure size 432x288 with 1 Axes>"
      ]
     },
     "metadata": {
      "needs_background": "light"
     },
     "output_type": "display_data"
    }
   ],
   "source": [
    "sns.barplot(data=store,x=\"Segment\",y=\"Sales\")\n",
    "plt.title(\"Sales across Segments\")\n",
    "plt.xlabel(\"Segment\")\n",
    "plt.ylabel(\"Sales\")\n",
    "plt.show()"
   ]
  },
  {
   "cell_type": "code",
   "execution_count": 183,
   "id": "05562b0b",
   "metadata": {
    "scrolled": true
   },
   "outputs": [
    {
     "data": {
      "image/png": "[encoded data removed]",
      "text/plain": [
       "<Figure size 432x288 with 1 Axes>"
      ]
     },
     "metadata": {
      "needs_background": "light"
     },
     "output_type": "display_data"
    }
   ],
   "source": [
    "sns.barplot(data=store,x=\"Segment\",y=\"Profit\")\n",
    "plt.title(\"Profit across Segments\")\n",
    "plt.xlabel(\"Segment\")\n",
    "plt.ylabel(\"Profit\")\n",
    "plt.show()"
   ]
  },
  {
   "cell_type": "code",
   "execution_count": 184,
   "id": "8407bda5",
   "metadata": {
    "scrolled": true
   },
   "outputs": [
    {
     "data": {
      "image/png": "[encoded data removed]",
      "text/plain": [
       "<Figure size 432x288 with 1 Axes>"
      ]
     },
     "metadata": {
      "needs_background": "light"
     },
     "output_type": "display_data"
    }
   ],
   "source": [
    "sns.barplot(data=store,x=\"Segment\",y=\"Quantity\")\n",
    "plt.title(\"Quantity sold in various Segments\")\n",
    "plt.xlabel(\"Segment\")\n",
    "plt.ylabel(\"Quantity\")\n",
    "plt.show()"
   ]
  },
  {
   "cell_type": "markdown",
   "id": "19e011c3",
   "metadata": {},
   "source": [
    "#### Among the various Segments, though the quantity sold is same, Home Office has the highest sales and is the most profitable as well. Consumer is the least profitable segment."
   ]
  },
  {
   "cell_type": "code",
   "execution_count": 185,
   "id": "27f41ed6",
   "metadata": {},
   "outputs": [
    {
     "data": {
      "text/html": [
       "<div>\n",
       "<style scoped>\n",
       "    .dataframe tbody tr th:only-of-type {\n",
       "        vertical-align: middle;\n",
       "    }\n",
       "\n",
       "    .dataframe tbody tr th {\n",
       "        vertical-align: top;\n",
       "    }\n",
       "\n",
       "    .dataframe thead th {\n",
       "        text-align: right;\n",
       "    }\n",
       "</style>\n",
       "<table border=\"1\" class=\"dataframe\">\n",
       "  <thead>\n",
       "    <tr style=\"text-align: right;\">\n",
       "      <th></th>\n",
       "      <th></th>\n",
       "      <th>Sales</th>\n",
       "    </tr>\n",
       "    <tr>\n",
       "      <th>Product Name</th>\n",
       "      <th>Category</th>\n",
       "      <th></th>\n",
       "    </tr>\n",
       "  </thead>\n",
       "  <tbody>\n",
       "    <tr>\n",
       "      <th>Canon imageCLASS 2200 Advanced Copier</th>\n",
       "      <th>Technology</th>\n",
       "      <td>61599.824</td>\n",
       "    </tr>\n",
       "    <tr>\n",
       "      <th>Fellowes PB500 Electric Punch Plastic Comb Binding Machine with Manual Bind</th>\n",
       "      <th>Office Supplies</th>\n",
       "      <td>27453.384</td>\n",
       "    </tr>\n",
       "    <tr>\n",
       "      <th>Cisco TelePresence System EX90 Videoconferencing Unit</th>\n",
       "      <th>Technology</th>\n",
       "      <td>22638.480</td>\n",
       "    </tr>\n",
       "    <tr>\n",
       "      <th>HON 5400 Series Task Chairs for Big and Tall</th>\n",
       "      <th>Furniture</th>\n",
       "      <td>21870.576</td>\n",
       "    </tr>\n",
       "    <tr>\n",
       "      <th>GBC DocuBind TL300 Electric Binding System</th>\n",
       "      <th>Office Supplies</th>\n",
       "      <td>19823.479</td>\n",
       "    </tr>\n",
       "    <tr>\n",
       "      <th>GBC Ibimaster 500 Manual ProClick Binding System</th>\n",
       "      <th>Office Supplies</th>\n",
       "      <td>19024.500</td>\n",
       "    </tr>\n",
       "    <tr>\n",
       "      <th>Hewlett Packard LaserJet 3310 Copier</th>\n",
       "      <th>Technology</th>\n",
       "      <td>18839.686</td>\n",
       "    </tr>\n",
       "    <tr>\n",
       "      <th>HP Designjet T520 Inkjet Large Format Printer - 24\" Color</th>\n",
       "      <th>Technology</th>\n",
       "      <td>18374.895</td>\n",
       "    </tr>\n",
       "    <tr>\n",
       "      <th>GBC DocuBind P400 Electric Binding System</th>\n",
       "      <th>Office Supplies</th>\n",
       "      <td>17965.068</td>\n",
       "    </tr>\n",
       "    <tr>\n",
       "      <th>High Speed Automatic Electric Letter Opener</th>\n",
       "      <th>Office Supplies</th>\n",
       "      <td>17030.312</td>\n",
       "    </tr>\n",
       "  </tbody>\n",
       "</table>\n",
       "</div>"
      ],
      "text/plain": [
       "                                                                        Sales\n",
       "Product Name                                       Category                  \n",
       "Canon imageCLASS 2200 Advanced Copier              Technology       61599.824\n",
       "Fellowes PB500 Electric Punch Plastic Comb Bind... Office Supplies  27453.384\n",
       "Cisco TelePresence System EX90 Videoconferencin... Technology       22638.480\n",
       "HON 5400 Series Task Chairs for Big and Tall       Furniture        21870.576\n",
       "GBC DocuBind TL300 Electric Binding System         Office Supplies  19823.479\n",
       "GBC Ibimaster 500 Manual ProClick Binding System   Office Supplies  19024.500\n",
       "Hewlett Packard LaserJet 3310 Copier               Technology       18839.686\n",
       "HP Designjet T520 Inkjet Large Format Printer -... Technology       18374.895\n",
       "GBC DocuBind P400 Electric Binding System          Office Supplies  17965.068\n",
       "High Speed Automatic Electric Letter Opener        Office Supplies  17030.312"
      ]
     },
     "execution_count": 185,
     "metadata": {},
     "output_type": "execute_result"
    }
   ],
   "source": [
    "sales=pd.DataFrame(store.groupby(by=[\"Product Name\",\"Category\"])[\"Sales\"].sum().sort_values(ascending=False).head(10))\n",
    "sales.head(10)"
   ]
  },
  {
   "cell_type": "code",
   "execution_count": 186,
   "id": "f100c113",
   "metadata": {},
   "outputs": [
    {
     "data": {
      "text/html": [
       "<div>\n",
       "<style scoped>\n",
       "    .dataframe tbody tr th:only-of-type {\n",
       "        vertical-align: middle;\n",
       "    }\n",
       "\n",
       "    .dataframe tbody tr th {\n",
       "        vertical-align: top;\n",
       "    }\n",
       "\n",
       "    .dataframe thead th {\n",
       "        text-align: right;\n",
       "    }\n",
       "</style>\n",
       "<table border=\"1\" class=\"dataframe\">\n",
       "  <thead>\n",
       "    <tr style=\"text-align: right;\">\n",
       "      <th></th>\n",
       "      <th></th>\n",
       "      <th>Profit</th>\n",
       "    </tr>\n",
       "    <tr>\n",
       "      <th>Product Name</th>\n",
       "      <th>Category</th>\n",
       "      <th></th>\n",
       "    </tr>\n",
       "  </thead>\n",
       "  <tbody>\n",
       "    <tr>\n",
       "      <th>Canon imageCLASS 2200 Advanced Copier</th>\n",
       "      <th>Technology</th>\n",
       "      <td>25199.9280</td>\n",
       "    </tr>\n",
       "    <tr>\n",
       "      <th>Fellowes PB500 Electric Punch Plastic Comb Binding Machine with Manual Bind</th>\n",
       "      <th>Office Supplies</th>\n",
       "      <td>7753.0390</td>\n",
       "    </tr>\n",
       "    <tr>\n",
       "      <th>Hewlett Packard LaserJet 3310 Copier</th>\n",
       "      <th>Technology</th>\n",
       "      <td>6983.8836</td>\n",
       "    </tr>\n",
       "    <tr>\n",
       "      <th>Canon PC1060 Personal Laser Copier</th>\n",
       "      <th>Technology</th>\n",
       "      <td>4570.9347</td>\n",
       "    </tr>\n",
       "    <tr>\n",
       "      <th>HP Designjet T520 Inkjet Large Format Printer - 24\" Color</th>\n",
       "      <th>Technology</th>\n",
       "      <td>4094.9766</td>\n",
       "    </tr>\n",
       "    <tr>\n",
       "      <th>Ativa V4110MDD Micro-Cut Shredder</th>\n",
       "      <th>Technology</th>\n",
       "      <td>3772.9461</td>\n",
       "    </tr>\n",
       "    <tr>\n",
       "      <th>3D Systems Cube Printer, 2nd Generation, Magenta</th>\n",
       "      <th>Technology</th>\n",
       "      <td>3717.9714</td>\n",
       "    </tr>\n",
       "    <tr>\n",
       "      <th>Plantronics Savi W720 Multi-Device Wireless Headset System</th>\n",
       "      <th>Technology</th>\n",
       "      <td>3696.2820</td>\n",
       "    </tr>\n",
       "    <tr>\n",
       "      <th>Ibico EPK-21 Electric Binding System</th>\n",
       "      <th>Office Supplies</th>\n",
       "      <td>3345.2823</td>\n",
       "    </tr>\n",
       "    <tr>\n",
       "      <th>Zebra ZM400 Thermal Label Printer</th>\n",
       "      <th>Technology</th>\n",
       "      <td>3343.5360</td>\n",
       "    </tr>\n",
       "  </tbody>\n",
       "</table>\n",
       "</div>"
      ],
      "text/plain": [
       "                                                                        Profit\n",
       "Product Name                                       Category                   \n",
       "Canon imageCLASS 2200 Advanced Copier              Technology       25199.9280\n",
       "Fellowes PB500 Electric Punch Plastic Comb Bind... Office Supplies   7753.0390\n",
       "Hewlett Packard LaserJet 3310 Copier               Technology        6983.8836\n",
       "Canon PC1060 Personal Laser Copier                 Technology        4570.9347\n",
       "HP Designjet T520 Inkjet Large Format Printer -... Technology        4094.9766\n",
       "Ativa V4110MDD Micro-Cut Shredder                  Technology        3772.9461\n",
       "3D Systems Cube Printer, 2nd Generation, Magenta   Technology        3717.9714\n",
       "Plantronics Savi W720 Multi-Device Wireless Hea... Technology        3696.2820\n",
       "Ibico EPK-21 Electric Binding System               Office Supplies   3345.2823\n",
       "Zebra ZM400 Thermal Label Printer                  Technology        3343.5360"
      ]
     },
     "execution_count": 186,
     "metadata": {},
     "output_type": "execute_result"
    }
   ],
   "source": [
    "profit=pd.DataFrame(store.groupby(by=[\"Product Name\",\"Category\"])[\"Profit\"].sum().sort_values(ascending=False).head(10))\n",
    "profit.head(10)"
   ]
  },
  {
   "cell_type": "markdown",
   "id": "3649b9be",
   "metadata": {},
   "source": [
    "#### Generally products belonging to Technology category are highly profitable"
   ]
  },
  {
   "cell_type": "markdown",
   "id": "4d35aebd",
   "metadata": {},
   "source": [
    "### Multivariate Analysis"
   ]
  },
  {
   "cell_type": "code",
   "execution_count": 187,
   "id": "a7e15792",
   "metadata": {
    "scrolled": true
   },
   "outputs": [
    {
     "data": {
      "text/html": [
       "<div>\n",
       "<style scoped>\n",
       "    .dataframe tbody tr th:only-of-type {\n",
       "        vertical-align: middle;\n",
       "    }\n",
       "\n",
       "    .dataframe tbody tr th {\n",
       "        vertical-align: top;\n",
       "    }\n",
       "\n",
       "    .dataframe thead th {\n",
       "        text-align: right;\n",
       "    }\n",
       "</style>\n",
       "<table border=\"1\" class=\"dataframe\">\n",
       "  <thead>\n",
       "    <tr style=\"text-align: right;\">\n",
       "      <th>Category</th>\n",
       "      <th>Furniture</th>\n",
       "      <th>Office Supplies</th>\n",
       "      <th>Technology</th>\n",
       "    </tr>\n",
       "    <tr>\n",
       "      <th>Region</th>\n",
       "      <th></th>\n",
       "      <th></th>\n",
       "      <th></th>\n",
       "    </tr>\n",
       "  </thead>\n",
       "  <tbody>\n",
       "    <tr>\n",
       "      <th>Central</th>\n",
       "      <td>340.534644</td>\n",
       "      <td>117.458801</td>\n",
       "      <td>405.753124</td>\n",
       "    </tr>\n",
       "    <tr>\n",
       "      <th>East</th>\n",
       "      <td>346.574383</td>\n",
       "      <td>120.044425</td>\n",
       "      <td>495.278469</td>\n",
       "    </tr>\n",
       "    <tr>\n",
       "      <th>South</th>\n",
       "      <td>353.309289</td>\n",
       "      <td>126.282727</td>\n",
       "      <td>507.753952</td>\n",
       "    </tr>\n",
       "    <tr>\n",
       "      <th>West</th>\n",
       "      <td>357.302325</td>\n",
       "      <td>116.422377</td>\n",
       "      <td>420.687533</td>\n",
       "    </tr>\n",
       "  </tbody>\n",
       "</table>\n",
       "</div>"
      ],
      "text/plain": [
       "Category   Furniture  Office Supplies  Technology\n",
       "Region                                           \n",
       "Central   340.534644       117.458801  405.753124\n",
       "East      346.574383       120.044425  495.278469\n",
       "South     353.309289       126.282727  507.753952\n",
       "West      357.302325       116.422377  420.687533"
      ]
     },
     "execution_count": 187,
     "metadata": {},
     "output_type": "execute_result"
    }
   ],
   "source": [
    "sales_values=pd.pivot_table(data=store, index=\"Region\",columns=\"Category\",values=\"Sales\")\n",
    "sales_values"
   ]
  },
  {
   "cell_type": "code",
   "execution_count": 188,
   "id": "32f64562",
   "metadata": {
    "scrolled": true
   },
   "outputs": [
    {
     "data": {
      "text/html": [
       "<div>\n",
       "<style scoped>\n",
       "    .dataframe tbody tr th:only-of-type {\n",
       "        vertical-align: middle;\n",
       "    }\n",
       "\n",
       "    .dataframe tbody tr th {\n",
       "        vertical-align: top;\n",
       "    }\n",
       "\n",
       "    .dataframe thead th {\n",
       "        text-align: right;\n",
       "    }\n",
       "</style>\n",
       "<table border=\"1\" class=\"dataframe\">\n",
       "  <thead>\n",
       "    <tr style=\"text-align: right;\">\n",
       "      <th>Category</th>\n",
       "      <th>Furniture</th>\n",
       "      <th>Office Supplies</th>\n",
       "      <th>Technology</th>\n",
       "    </tr>\n",
       "    <tr>\n",
       "      <th>Region</th>\n",
       "      <th></th>\n",
       "      <th></th>\n",
       "      <th></th>\n",
       "    </tr>\n",
       "  </thead>\n",
       "  <tbody>\n",
       "    <tr>\n",
       "      <th>Central</th>\n",
       "      <td>-5.968918</td>\n",
       "      <td>6.244712</td>\n",
       "      <td>80.231981</td>\n",
       "    </tr>\n",
       "    <tr>\n",
       "      <th>East</th>\n",
       "      <td>5.068496</td>\n",
       "      <td>23.957114</td>\n",
       "      <td>88.714084</td>\n",
       "    </tr>\n",
       "    <tr>\n",
       "      <th>South</th>\n",
       "      <td>20.395199</td>\n",
       "      <td>20.086827</td>\n",
       "      <td>68.231506</td>\n",
       "    </tr>\n",
       "    <tr>\n",
       "      <th>West</th>\n",
       "      <td>16.272914</td>\n",
       "      <td>27.733183</td>\n",
       "      <td>73.962687</td>\n",
       "    </tr>\n",
       "  </tbody>\n",
       "</table>\n",
       "</div>"
      ],
      "text/plain": [
       "Category  Furniture  Office Supplies  Technology\n",
       "Region                                          \n",
       "Central   -5.968918         6.244712   80.231981\n",
       "East       5.068496        23.957114   88.714084\n",
       "South     20.395199        20.086827   68.231506\n",
       "West      16.272914        27.733183   73.962687"
      ]
     },
     "execution_count": 188,
     "metadata": {},
     "output_type": "execute_result"
    }
   ],
   "source": [
    "profit_values=pd.pivot_table(data=store, index=\"Region\",columns=\"Category\",values=\"Profit\")\n",
    "profit_values"
   ]
  },
  {
   "cell_type": "markdown",
   "id": "2b0dd560",
   "metadata": {},
   "source": [
    "Comparison of Sales and Profit across Regions and Categories shows Technology category to have the highest Sales and most profitable across all regions"
   ]
  },
  {
   "cell_type": "code",
   "execution_count": 189,
   "id": "ed94ebd8",
   "metadata": {
    "scrolled": true
   },
   "outputs": [
    {
     "data": {
      "text/html": [
       "<div>\n",
       "<style scoped>\n",
       "    .dataframe tbody tr th:only-of-type {\n",
       "        vertical-align: middle;\n",
       "    }\n",
       "\n",
       "    .dataframe tbody tr th {\n",
       "        vertical-align: top;\n",
       "    }\n",
       "\n",
       "    .dataframe thead th {\n",
       "        text-align: right;\n",
       "    }\n",
       "</style>\n",
       "<table border=\"1\" class=\"dataframe\">\n",
       "  <thead>\n",
       "    <tr style=\"text-align: right;\">\n",
       "      <th>Segment</th>\n",
       "      <th>Consumer</th>\n",
       "      <th>Corporate</th>\n",
       "      <th>Home Office</th>\n",
       "    </tr>\n",
       "    <tr>\n",
       "      <th>Region</th>\n",
       "      <th></th>\n",
       "      <th></th>\n",
       "      <th></th>\n",
       "    </tr>\n",
       "  </thead>\n",
       "  <tbody>\n",
       "    <tr>\n",
       "      <th>Central</th>\n",
       "      <td>207.946728</td>\n",
       "      <td>234.763466</td>\n",
       "      <td>208.248046</td>\n",
       "    </tr>\n",
       "    <tr>\n",
       "      <th>East</th>\n",
       "      <td>238.875539</td>\n",
       "      <td>228.516929</td>\n",
       "      <td>253.911805</td>\n",
       "    </tr>\n",
       "    <tr>\n",
       "      <th>South</th>\n",
       "      <td>233.390180</td>\n",
       "      <td>238.992025</td>\n",
       "      <td>272.996329</td>\n",
       "    </tr>\n",
       "    <tr>\n",
       "      <th>West</th>\n",
       "      <td>217.033955</td>\n",
       "      <td>235.265911</td>\n",
       "      <td>239.442692</td>\n",
       "    </tr>\n",
       "  </tbody>\n",
       "</table>\n",
       "</div>"
      ],
      "text/plain": [
       "Segment    Consumer   Corporate  Home Office\n",
       "Region                                      \n",
       "Central  207.946728  234.763466   208.248046\n",
       "East     238.875539  228.516929   253.911805\n",
       "South    233.390180  238.992025   272.996329\n",
       "West     217.033955  235.265911   239.442692"
      ]
     },
     "execution_count": 189,
     "metadata": {},
     "output_type": "execute_result"
    }
   ],
   "source": [
    "sales_values1=pd.pivot_table(data=store, index=\"Region\",columns=\"Segment\",values=\"Sales\")\n",
    "sales_values1"
   ]
  },
  {
   "cell_type": "code",
   "execution_count": 190,
   "id": "28de69c4",
   "metadata": {
    "scrolled": true
   },
   "outputs": [
    {
     "data": {
      "text/html": [
       "<div>\n",
       "<style scoped>\n",
       "    .dataframe tbody tr th:only-of-type {\n",
       "        vertical-align: middle;\n",
       "    }\n",
       "\n",
       "    .dataframe tbody tr th {\n",
       "        vertical-align: top;\n",
       "    }\n",
       "\n",
       "    .dataframe thead th {\n",
       "        text-align: right;\n",
       "    }\n",
       "</style>\n",
       "<table border=\"1\" class=\"dataframe\">\n",
       "  <thead>\n",
       "    <tr style=\"text-align: right;\">\n",
       "      <th>Segment</th>\n",
       "      <th>Consumer</th>\n",
       "      <th>Corporate</th>\n",
       "      <th>Home Office</th>\n",
       "    </tr>\n",
       "    <tr>\n",
       "      <th>Region</th>\n",
       "      <th></th>\n",
       "      <th></th>\n",
       "      <th></th>\n",
       "    </tr>\n",
       "  </thead>\n",
       "  <tbody>\n",
       "    <tr>\n",
       "      <th>Central</th>\n",
       "      <td>7.066046</td>\n",
       "      <td>27.791831</td>\n",
       "      <td>28.398202</td>\n",
       "    </tr>\n",
       "    <tr>\n",
       "      <th>East</th>\n",
       "      <td>28.040153</td>\n",
       "      <td>26.935666</td>\n",
       "      <td>53.205611</td>\n",
       "    </tr>\n",
       "    <tr>\n",
       "      <th>South</th>\n",
       "      <td>32.116435</td>\n",
       "      <td>29.833771</td>\n",
       "      <td>16.987626</td>\n",
       "    </tr>\n",
       "    <tr>\n",
       "      <th>West</th>\n",
       "      <td>34.360409</td>\n",
       "      <td>35.872323</td>\n",
       "      <td>28.949939</td>\n",
       "    </tr>\n",
       "  </tbody>\n",
       "</table>\n",
       "</div>"
      ],
      "text/plain": [
       "Segment   Consumer  Corporate  Home Office\n",
       "Region                                    \n",
       "Central   7.066046  27.791831    28.398202\n",
       "East     28.040153  26.935666    53.205611\n",
       "South    32.116435  29.833771    16.987626\n",
       "West     34.360409  35.872323    28.949939"
      ]
     },
     "execution_count": 190,
     "metadata": {},
     "output_type": "execute_result"
    }
   ],
   "source": [
    "profit_values1=pd.pivot_table(data=store, index=\"Region\",columns=\"Segment\",values=\"Profit\")\n",
    "profit_values1"
   ]
  },
  {
   "cell_type": "markdown",
   "id": "92692bd9",
   "metadata": {},
   "source": [
    "A comparison of Sales and profit across Regions and Segments reveals a mixed trend.\n",
    "Consumer segment has highest sales in East but it is highly profitable in West.\n",
    "Corporate segment has highest sales in South but it is highly profitable in West.\n",
    "Home Office segment has highest sales in South but it is highly profitable in East."
   ]
  },
  {
   "cell_type": "code",
   "execution_count": 191,
   "id": "04ed4757",
   "metadata": {},
   "outputs": [
    {
     "data": {
      "text/html": [
       "<div>\n",
       "<style scoped>\n",
       "    .dataframe tbody tr th:only-of-type {\n",
       "        vertical-align: middle;\n",
       "    }\n",
       "\n",
       "    .dataframe tbody tr th {\n",
       "        vertical-align: top;\n",
       "    }\n",
       "\n",
       "    .dataframe thead th {\n",
       "        text-align: right;\n",
       "    }\n",
       "</style>\n",
       "<table border=\"1\" class=\"dataframe\">\n",
       "  <thead>\n",
       "    <tr style=\"text-align: right;\">\n",
       "      <th>Segment</th>\n",
       "      <th>Consumer</th>\n",
       "      <th>Corporate</th>\n",
       "      <th>Home Office</th>\n",
       "    </tr>\n",
       "    <tr>\n",
       "      <th>Category</th>\n",
       "      <th></th>\n",
       "      <th></th>\n",
       "      <th></th>\n",
       "    </tr>\n",
       "  </thead>\n",
       "  <tbody>\n",
       "    <tr>\n",
       "      <th>Furniture</th>\n",
       "      <td>351.347091</td>\n",
       "      <td>354.519792</td>\n",
       "      <td>336.825131</td>\n",
       "    </tr>\n",
       "    <tr>\n",
       "      <th>Office Supplies</th>\n",
       "      <td>116.390194</td>\n",
       "      <td>126.745309</td>\n",
       "      <td>115.309021</td>\n",
       "    </tr>\n",
       "    <tr>\n",
       "      <th>Technology</th>\n",
       "      <td>427.339534</td>\n",
       "      <td>444.855810</td>\n",
       "      <td>535.976658</td>\n",
       "    </tr>\n",
       "  </tbody>\n",
       "</table>\n",
       "</div>"
      ],
      "text/plain": [
       "Segment            Consumer   Corporate  Home Office\n",
       "Category                                            \n",
       "Furniture        351.347091  354.519792   336.825131\n",
       "Office Supplies  116.390194  126.745309   115.309021\n",
       "Technology       427.339534  444.855810   535.976658"
      ]
     },
     "execution_count": 191,
     "metadata": {},
     "output_type": "execute_result"
    }
   ],
   "source": [
    "sales_values2=pd.pivot_table(data=store, index=\"Category\",columns=\"Segment\",values=\"Sales\")\n",
    "sales_values2"
   ]
  },
  {
   "cell_type": "code",
   "execution_count": 192,
   "id": "ee9053bb",
   "metadata": {},
   "outputs": [
    {
     "data": {
      "text/html": [
       "<div>\n",
       "<style scoped>\n",
       "    .dataframe tbody tr th:only-of-type {\n",
       "        vertical-align: middle;\n",
       "    }\n",
       "\n",
       "    .dataframe tbody tr th {\n",
       "        vertical-align: top;\n",
       "    }\n",
       "\n",
       "    .dataframe thead th {\n",
       "        text-align: right;\n",
       "    }\n",
       "</style>\n",
       "<table border=\"1\" class=\"dataframe\">\n",
       "  <thead>\n",
       "    <tr style=\"text-align: right;\">\n",
       "      <th>Segment</th>\n",
       "      <th>Consumer</th>\n",
       "      <th>Corporate</th>\n",
       "      <th>Home Office</th>\n",
       "    </tr>\n",
       "    <tr>\n",
       "      <th>Category</th>\n",
       "      <th></th>\n",
       "      <th></th>\n",
       "      <th></th>\n",
       "    </tr>\n",
       "  </thead>\n",
       "  <tbody>\n",
       "    <tr>\n",
       "      <th>Furniture</th>\n",
       "      <td>6.281293</td>\n",
       "      <td>11.741201</td>\n",
       "      <td>10.705465</td>\n",
       "    </tr>\n",
       "    <tr>\n",
       "      <th>Office Supplies</th>\n",
       "      <td>18.014174</td>\n",
       "      <td>22.102923</td>\n",
       "      <td>24.034439</td>\n",
       "    </tr>\n",
       "    <tr>\n",
       "      <th>Technology</th>\n",
       "      <td>74.445646</td>\n",
       "      <td>79.723823</td>\n",
       "      <td>89.152458</td>\n",
       "    </tr>\n",
       "  </tbody>\n",
       "</table>\n",
       "</div>"
      ],
      "text/plain": [
       "Segment           Consumer  Corporate  Home Office\n",
       "Category                                          \n",
       "Furniture         6.281293  11.741201    10.705465\n",
       "Office Supplies  18.014174  22.102923    24.034439\n",
       "Technology       74.445646  79.723823    89.152458"
      ]
     },
     "execution_count": 192,
     "metadata": {},
     "output_type": "execute_result"
    }
   ],
   "source": [
    "profit_values2=pd.pivot_table(data=store, index=\"Category\",columns=\"Segment\",values=\"Profit\")\n",
    "profit_values2"
   ]
  },
  {
   "cell_type": "markdown",
   "id": "e891d95f",
   "metadata": {},
   "source": [
    "A comparison of Sales and profit across Categories and Segments reveals a clear message.\n",
    "In all segments, Technology has the most sales and is the most profitable."
   ]
  },
  {
   "cell_type": "markdown",
   "id": "7a44987e",
   "metadata": {},
   "source": [
    "### Heat map"
   ]
  },
  {
   "cell_type": "code",
   "execution_count": 193,
   "id": "f481b1b0",
   "metadata": {},
   "outputs": [
    {
     "data": {
      "image/png": "[encoded data removed]",
      "text/plain": [
       "<Figure size 1080x720 with 2 Axes>"
      ]
     },
     "metadata": {
      "needs_background": "light"
     },
     "output_type": "display_data"
    }
   ],
   "source": [
    "plt.figure(figsize=(15,10))\n",
    "sns.heatmap(store.corr(),cmap=\"YlGnBu\",annot=True)\n",
    "plt.show()"
   ]
  },
  {
   "cell_type": "markdown",
   "id": "41e5d82e",
   "metadata": {},
   "source": [
    "From the heat map, we see a postive correlation between Sales and Profit. \n",
    "An increase in Sales causes an increse in Profit.\n",
    "Profit and Discount has a negative correlation. Increase in discount would negatively impact profit."
   ]
  },
  {
   "cell_type": "markdown",
   "id": "fb8e9b9d",
   "metadata": {},
   "source": [
    "#### Inferences:\n",
    "1. Technology Category is the most profitable and Furniture is the least profitable across all regions.\n",
    "2. Among the regions, West is the most profitable and Central is the least profitable.\n",
    "3. All segments do well in all regions except for Central region.\n",
    "4. Technology is the most popular category among all the segments. Though Furniture has reasonable sales, it is the least profitable in all the segments.\n",
    "5. Majority of the most profitable products belong to Technology category only. "
   ]
  },
  {
   "cell_type": "code",
   "execution_count": null,
   "id": "5b610197",
   "metadata": {},
   "outputs": [],
   "source": []
  }
 ],
 "metadata": {
  "kernelspec": {
   "display_name": "Python 3 (ipykernel)",
   "language": "python",
   "name": "python3"
  },
  "language_info": {
   "codemirror_mode": {
    "name": "ipython",
    "version": 3
   },
   "file_extension": ".py",
   "mimetype": "text/x-python",
   "name": "python",
   "nbconvert_exporter": "python",
   "pygments_lexer": "ipython3",
   "version": "3.9.7"
  }
 },
 "nbformat": 4,
 "nbformat_minor": 5
}
